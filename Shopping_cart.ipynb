{
 "cells": [
  {
   "cell_type": "code",
   "execution_count": 1,
   "id": "c5daac1d",
   "metadata": {},
   "outputs": [
    {
     "name": "stdout",
     "output_type": "stream",
     "text": [
      "please enter add , remove , show , clear or quit\n",
      "\n",
      "---------------------------\n",
      "abc x 1= $123.0\n",
      "hu x 1= $36.0\n",
      "\n",
      "Current total = $159.0\n",
      "items removed\n",
      "\n",
      "---------------------------\n",
      "abc x 2= $246.0\n",
      "\n",
      "Current total = $246.0\n",
      "\n",
      "---------------------------\n",
      "abc x 2 = 246.0\n",
      "---------------------------\n",
      "Total = $246.0\n"
     ]
    }
   ],
   "source": [
    "def shopping_cart(cart={}):\n",
    "    total=[]\n",
    "    while True:\n",
    "        choice=input(f'what would you like to do?  add , remove , show , clear or quit?').lower()\n",
    "        if choice=='quit':\n",
    "            break\n",
    "        elif choice=='add':\n",
    "            item=input('enter item ')\n",
    "            if item in cart.keys(): # this will test for if the key(the item) is already in the cart.\n",
    "                cart[item].append(cart[item][0]) #this line will duplicate the price already in the list at index 0.\n",
    "                # cart[item] refers to the key in the dectionary, which has a value of a list named price.\n",
    "            else:\n",
    "                price=[input('enter its price')]# adds a value to the list price.\n",
    "                cart[item]=price     \n",
    "        elif choice=='remove':\n",
    "            item=input('what item do you want to remove?')\n",
    "            if item in cart.keys():\n",
    "                del cart[item]\n",
    "                print(\"items removed\")\n",
    "            else:\n",
    "                print(\"item doesnt exist\")\n",
    "        elif choice=='clear':\n",
    "            cart.clear()\n",
    "            print(\"items cleared\") \n",
    "        elif choice=='show':\n",
    "            c_total=[]\n",
    "            print(f'\\n---------------------------')\n",
    "            for item,price in cart.items():\n",
    "                print(f'{item} x {len(price)}= ${float(price[0])*len(price)}')\n",
    "                #len(price)=the number of duplicates in the list \"price\".\n",
    "                c_total.append(float(price[0])*len(price))\n",
    "            print(f'\\nCurrent total = ${sum(c_total)}')   \n",
    "        else :\n",
    "            print (\"please enter add , remove , show , clear or quit\")\n",
    "    \n",
    "    print(f'\\n---------------------------')\n",
    "    for item,price in cart.items():\n",
    "        total.append(float(price[0])*len(price))# this line adds the total price of each item(s) to the list \"Total\" in line 2.   \n",
    "        print(f'{item} x {len(price)} = {float(price[0])*len(price)}')    \n",
    "    print('---------------------------')\n",
    "    print(f'Total = ${sum(total)}')\n",
    "shopping_cart(cart={})"
   ]
  },
  {
   "cell_type": "code",
   "execution_count": null,
   "id": "33952a50",
   "metadata": {},
   "outputs": [],
   "source": []
  }
 ],
 "metadata": {
  "interpreter": {
   "hash": "aee8b7b246df8f9039afb4144a1f6fd8d2ca17a180786b69acc140d282b71a49"
  },
  "kernelspec": {
   "display_name": "Python 3.9.7 64-bit",
   "language": "python",
   "name": "python3"
  },
  "language_info": {
   "codemirror_mode": {
    "name": "ipython",
    "version": 3
   },
   "file_extension": ".py",
   "mimetype": "text/x-python",
   "name": "python",
   "nbconvert_exporter": "python",
   "pygments_lexer": "ipython3",
   "version": "3.9.7"
  }
 },
 "nbformat": 4,
 "nbformat_minor": 5
}
